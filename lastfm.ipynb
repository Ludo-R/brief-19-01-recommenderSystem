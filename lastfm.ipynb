{
 "cells": [
  {
   "cell_type": "code",
   "execution_count": 25,
   "id": "integrated-georgia",
   "metadata": {},
   "outputs": [],
   "source": [
    "import pandas as pd\n",
    "import numpy as np\n",
    "from sklearn.model_selection import GridSearchCV, KFold\n",
    "from sklearn.metrics.pairwise import cosine_similarity"
   ]
  },
  {
   "cell_type": "code",
   "execution_count": 26,
   "id": "capital-castle",
   "metadata": {},
   "outputs": [
    {
     "output_type": "stream",
     "name": "stdout",
     "text": [
      "                    totalUsers  totalPlays     avgPlays\nname                                                   \nBritney Spears             522     2393140  4584.559387\nDepeche Mode               282     1301308  4614.567376\nLady Gaga                  611     1291387  2113.563011\nChristina Aguilera         407     1058405  2600.503686\nParamore                   399      963449  2414.659148\n...                        ...         ...          ...\nMorris                       1           1     1.000000\nEddie Kendricks              1           1     1.000000\nExcess Pressure              1           1     1.000000\nMy Mine                      1           1     1.000000\nA.M. Architect               1           1     1.000000\n\n[17632 rows x 3 columns]\n"
     ]
    }
   ],
   "source": [
    "\n",
    "plays = pd.read_csv('data/user_artists.dat', sep='\\t')\n",
    "artists = pd.read_csv('data/artists.dat', sep='\\t', usecols=['id','name'])\n",
    "\n",
    "# Merge artist and user pref data\n",
    "ap = pd.merge(artists, plays, how=\"inner\", left_on=\"id\", right_on=\"artistID\")\n",
    "ap = ap.rename(columns={\"weight\": \"playCount\"})\n",
    "\n",
    "# Group artist by name\n",
    "artist_rank = ap.groupby(['name']) \\\n",
    "    .agg({'userID' : 'count', 'playCount' : 'sum'}) \\\n",
    "    .rename(columns={\"userID\" : 'totalUsers', \"playCount\" : \"totalPlays\"}) \\\n",
    "    .sort_values(['totalPlays'], ascending=False)\n",
    "\n",
    "artist_rank['avgPlays'] = artist_rank['totalPlays'] / artist_rank['totalUsers']\n",
    "print(artist_rank)"
   ]
  },
  {
   "cell_type": "code",
   "execution_count": 27,
   "id": "political-ending",
   "metadata": {},
   "outputs": [
    {
     "output_type": "stream",
     "name": "stdout",
     "text": [
      "density: 0.28\n"
     ]
    }
   ],
   "source": [
    "# Merge into ap matrix\n",
    "ap = ap.join(artist_rank, on=\"name\", how=\"inner\") \\\n",
    "    .sort_values(['playCount'], ascending=False)\n",
    "# Preprocessing\n",
    "pc = ap.playCount\n",
    "play_count_scaled = (pc - pc.min()) / (pc.max() - pc.min())\n",
    "ap = ap.assign(playCountScaled=play_count_scaled)\n",
    "\n",
    "# Build a user-artist rating matrix \n",
    "ratings_df = ap.pivot(index='userID', columns='artistID', values='playCountScaled')\n",
    "ratings = ratings_df.fillna(0).values\n",
    "\n",
    "# Show sparsity\n",
    "density = float(len(ratings.nonzero()[0])) / (ratings.shape[0] * ratings.shape[1]) * 100\n",
    "print(\"density: %.2f\" % density)"
   ]
  },
  {
   "cell_type": "code",
   "execution_count": 28,
   "id": "sensitive-poverty",
   "metadata": {},
   "outputs": [
    {
     "output_type": "stream",
     "name": "stdout",
     "text": [
      "rating matrix shape (1892, 17632)\n"
     ]
    }
   ],
   "source": [
    "from scipy.sparse import csr_matrix, csc_matrix, coo_matrix\n",
    "\n",
    "# Build a sparse matrix\n",
    "X = csr_matrix(ratings)\n",
    "\n",
    "n_users, n_items = ratings_df.shape\n",
    "print(\"rating matrix shape\", ratings_df.shape)\n",
    "\n",
    "user_ids = ratings_df.index.values\n",
    "artist_names = ap.sort_values(\"artistID\")[\"name\"].unique()"
   ]
  },
  {
   "cell_type": "code",
   "execution_count": 29,
   "id": "casual-workplace",
   "metadata": {},
   "outputs": [],
   "source": [
    "from lightfm import LightFM\n",
    "from lightfm.evaluation import auc_score, precision_at_k, recall_at_k\n",
    "from lightfm.cross_validation import random_train_test_split\n",
    "from lightfm.data import Dataset\n",
    "\n",
    "# Build data references + train test\n",
    "Xcoo = X.tocoo()\n",
    "data = Dataset()\n",
    "data.fit(np.arange(n_users), np.arange(n_items))\n",
    "interactions, weights = data.build_interactions(zip(Xcoo.row, Xcoo.col, Xcoo.data)) \n",
    "train, test = random_train_test_split(interactions, random_state=42)\n",
    "\n",
    "# Ignore that (weight seems to be ignored...)\n",
    "#train = train_.tocsr()\n",
    "#test = test_.tocsr()\n",
    "#train[train==1] = X[train==1]\n",
    "#test[test==1] = X[test==1]\n",
    "\n",
    "# To be completed..."
   ]
  },
  {
   "cell_type": "code",
   "execution_count": 30,
   "id": "tight-platinum",
   "metadata": {},
   "outputs": [
    {
     "output_type": "execute_result",
     "data": {
      "text/plain": [
       "<lightfm.lightfm.LightFM at 0x7f863415f730>"
      ]
     },
     "metadata": {},
     "execution_count": 30
    }
   ],
   "source": [
    "# Train\n",
    "model = LightFM(learning_rate=0.05, loss='warp', random_state=42)\n",
    "model.fit(train, epochs=10, num_threads=2)"
   ]
  },
  {
   "cell_type": "code",
   "execution_count": 31,
   "id": "civic-hollow",
   "metadata": {},
   "outputs": [
    {
     "output_type": "stream",
     "name": "stdout",
     "text": [
      "Precision: train 0.38, test 0.13.\nAUC: train 0.96, test 0.86.\n"
     ]
    }
   ],
   "source": [
    "# Evaluate\n",
    "train_precision = precision_at_k(model, train, k=10).mean()\n",
    "test_precision = precision_at_k(model, test, k=10, train_interactions=train).mean()\n",
    "\n",
    "train_auc = auc_score(model, train).mean()\n",
    "test_auc = auc_score(model, test, train_interactions=train).mean()\n",
    "\n",
    "print('Precision: train %.2f, test %.2f.' % (train_precision, test_precision))\n",
    "print('AUC: train %.2f, test %.2f.' % (train_auc, test_auc))"
   ]
  },
  {
   "cell_type": "code",
   "execution_count": 32,
   "id": "professional-tomato",
   "metadata": {},
   "outputs": [
    {
     "output_type": "stream",
     "name": "stdout",
     "text": [
      "['Depeche Mode' 'Madonna' 'New Order' ... 'Anata' 'Wayne Marshall'\n 'Tokyo Gakuso']\n"
     ]
    }
   ],
   "source": [
    "# Predict\n",
    "scores = model.predict(0, np.arange(n_items))\n",
    "top_items = artist_names[np.argsort(-scores)]\n",
    "print(top_items)"
   ]
  },
  {
   "cell_type": "code",
   "execution_count": 33,
   "id": "visible-assistant",
   "metadata": {},
   "outputs": [
    {
     "output_type": "execute_result",
     "data": {
      "text/plain": [
       "<lightfm.lightfm.LightFM at 0x7f86364431c0>"
      ]
     },
     "metadata": {},
     "execution_count": 33
    }
   ],
   "source": [
    "model2 = LightFM(learning_rate=0.08, loss='warp', random_state=42)\n",
    "model2.fit(train, epochs=10, num_threads=2)"
   ]
  },
  {
   "cell_type": "markdown",
   "id": "weighted-andrew",
   "metadata": {},
   "source": [
    "#### Try some parametter and get a board with better"
   ]
  },
  {
   "cell_type": "code",
   "execution_count": 34,
   "id": "compact-expert",
   "metadata": {},
   "outputs": [],
   "source": [
    "# Evaluate\n",
    "trp = precision_at_k(model, train, k=10).mean()\n",
    "tep = precision_at_k(model, test, k=10, train_interactions=train).mean()\n",
    "\n",
    "tra = auc_score(model, train).mean()\n",
    "tea = auc_score(model, test, train_interactions=train).mean()\n",
    "\n",
    "dico = {'Loss':'Warp', 'K':10, 'Learning_rate':0.08, 'Train Precision':trp, 'Test Precision':tep, 'Train Auc':tra,'Test Auc':tea}\n",
    "\n",
    "tab = pd.DataFrame(dico.items(), columns=['Parameter', 'Values'])"
   ]
  },
  {
   "cell_type": "code",
   "execution_count": 35,
   "id": "coordinated-citizen",
   "metadata": {},
   "outputs": [
    {
     "output_type": "execute_result",
     "data": {
      "text/plain": [
       "         Parameter    Values\n",
       "0             Loss      Warp\n",
       "1                K        10\n",
       "2    Learning_rate      0.08\n",
       "3  Train Precision  0.377754\n",
       "4   Test Precision  0.131981\n",
       "5        Train Auc  0.964242\n",
       "6         Test Auc  0.856067"
      ],
      "text/html": "<div>\n<style scoped>\n    .dataframe tbody tr th:only-of-type {\n        vertical-align: middle;\n    }\n\n    .dataframe tbody tr th {\n        vertical-align: top;\n    }\n\n    .dataframe thead th {\n        text-align: right;\n    }\n</style>\n<table border=\"1\" class=\"dataframe\">\n  <thead>\n    <tr style=\"text-align: right;\">\n      <th></th>\n      <th>Parameter</th>\n      <th>Values</th>\n    </tr>\n  </thead>\n  <tbody>\n    <tr>\n      <th>0</th>\n      <td>Loss</td>\n      <td>Warp</td>\n    </tr>\n    <tr>\n      <th>1</th>\n      <td>K</td>\n      <td>10</td>\n    </tr>\n    <tr>\n      <th>2</th>\n      <td>Learning_rate</td>\n      <td>0.08</td>\n    </tr>\n    <tr>\n      <th>3</th>\n      <td>Train Precision</td>\n      <td>0.377754</td>\n    </tr>\n    <tr>\n      <th>4</th>\n      <td>Test Precision</td>\n      <td>0.131981</td>\n    </tr>\n    <tr>\n      <th>5</th>\n      <td>Train Auc</td>\n      <td>0.964242</td>\n    </tr>\n    <tr>\n      <th>6</th>\n      <td>Test Auc</td>\n      <td>0.856067</td>\n    </tr>\n  </tbody>\n</table>\n</div>"
     },
     "metadata": {},
     "execution_count": 35
    }
   ],
   "source": [
    "tab"
   ]
  },
  {
   "cell_type": "code",
   "execution_count": 36,
   "id": "photographic-growing",
   "metadata": {},
   "outputs": [],
   "source": [
    "import time\n",
    "\n",
    "def scoring():\n",
    "\n",
    "    learning_rate = [0.05, 0.08, 0.10]\n",
    "    losslist = ['bpr', 'warp', 'logistic', 'warp-kos']\n",
    "    klist = [5, 7, 9, 11, 13]\n",
    "    results = []\n",
    "    \n",
    "    for x in learning_rate:\n",
    "        for y in losslist:\n",
    "            for z in klist:\n",
    "            \n",
    "                model = LightFM(learning_rate=x, loss = y)\n",
    "                t1 = time.process_time()\n",
    "                model.fit(train, epochs=10, num_threads=2)\n",
    "                t2 = time.process_time()\n",
    "                t = t2 - t1\n",
    "                trainPrecision = precision_at_k(model, train, k=z).mean()\n",
    "                testPrecision = precision_at_k(model, test, k=z, train_interactions=train).mean()\n",
    "\n",
    "                trainAUC = auc_score(model, train).mean()\n",
    "                testAUC = auc_score(model, test, train_interactions=train).mean()\n",
    "\n",
    "                dicttemp = {}\n",
    "                dicttemp = {'Time:':t, 'K':z, 'Name':y, 'Learning Rate':x, 'Train Precision':trainPrecision, 'Train AUC':trainAUC, 'Test Precision':testPrecision, \"Train AUC\":trainAUC, \"Test AUC\":testAUC}\n",
    "\n",
    "                results.append(dicttemp)\n",
    "            \n",
    "    results = pd.DataFrame(results)\n",
    "\n",
    "    return results"
   ]
  },
  {
   "cell_type": "code",
   "execution_count": 37,
   "id": "functioning-whole",
   "metadata": {},
   "outputs": [],
   "source": [
    "#scoring()"
   ]
  },
  {
   "cell_type": "code",
   "execution_count": 38,
   "id": "geological-flashing",
   "metadata": {},
   "outputs": [],
   "source": [
    "# Faire la fonction get_recommandation qui prend en entrée un User et renvoie les Artists recommandé \n",
    "# (du meilleurs au moins bon au sens du score de recommandation)"
   ]
  },
  {
   "cell_type": "code",
   "execution_count": 39,
   "metadata": {},
   "outputs": [
    {
     "output_type": "execute_result",
     "data": {
      "text/plain": [
       "dict_items([('loss', 'warp'), ('learning_schedule', 'adadelta'), ('learning_rate', 0.08)])"
      ]
     },
     "metadata": {},
     "execution_count": 39
    }
   ],
   "source": [
    "## Construction de Grid-search manuelle\n",
    "\n",
    "# Optimisation de paramètres avec GridSearch\n",
    "\n",
    "from sklearn.model_selection import ParameterGrid# Create the parameter grid based on the results of random search \n",
    "\n",
    "param_grid = {\n",
    "    'learning_rate': [0.06 , 0.08, 0.10],\n",
    "    'learning_schedule':['adagrad','adadelta'],\n",
    "    'loss': ['warp','bpr','logistic','warp-kos']\n",
    "    \n",
    "}\n",
    "# definition liste score auc\n",
    "auc_score_values = []\n",
    "\n",
    "for grid in ParameterGrid(param_grid):\n",
    "    model = LightFM(**grid)\n",
    "    pred = model.fit(train)\n",
    "    auc_score_values.append(round(auc_score(model, test, train_interactions=train).mean(),3))\n",
    "    \n",
    "max_value = max(auc_score_values) \n",
    "max_index = np.argmax(auc_score_values)\n",
    "ParameterGrid(param_grid)[max_index ].items()"
   ]
  },
  {
   "cell_type": "code",
   "execution_count": 46,
   "id": "failing-stretch",
   "metadata": {},
   "outputs": [],
   "source": [
    "model = LightFM(learning_rate=0.08, learning_schedule='adadelta', loss='warp', random_state=42)\n",
    "model.fit(train, epochs=10, num_threads=2)\n",
    "\n",
    "def recommend(user):\n",
    "    scores = model.predict(user, np.arange(n_items))\n",
    "    top_items = artist_names[np.argsort(-scores)]\n",
    "    reco = pd.DataFrame(top_items[:10], columns=['Recommandations'])\n",
    "    return reco"
   ]
  },
  {
   "cell_type": "code",
   "execution_count": 47,
   "id": "returning-guitar",
   "metadata": {},
   "outputs": [
    {
     "output_type": "execute_result",
     "data": {
      "text/plain": [
       "  Recommandations\n",
       "0     The Beatles\n",
       "1       Radiohead\n",
       "2           Oasis\n",
       "3      Pink Floyd\n",
       "4       Bob Dylan\n",
       "5  Arctic Monkeys\n",
       "6          R.E.M.\n",
       "7        The Cure\n",
       "8         Nirvana\n",
       "9    Yann Tiersen"
      ],
      "text/html": "<div>\n<style scoped>\n    .dataframe tbody tr th:only-of-type {\n        vertical-align: middle;\n    }\n\n    .dataframe tbody tr th {\n        vertical-align: top;\n    }\n\n    .dataframe thead th {\n        text-align: right;\n    }\n</style>\n<table border=\"1\" class=\"dataframe\">\n  <thead>\n    <tr style=\"text-align: right;\">\n      <th></th>\n      <th>Recommandations</th>\n    </tr>\n  </thead>\n  <tbody>\n    <tr>\n      <th>0</th>\n      <td>The Beatles</td>\n    </tr>\n    <tr>\n      <th>1</th>\n      <td>Radiohead</td>\n    </tr>\n    <tr>\n      <th>2</th>\n      <td>Oasis</td>\n    </tr>\n    <tr>\n      <th>3</th>\n      <td>Pink Floyd</td>\n    </tr>\n    <tr>\n      <th>4</th>\n      <td>Bob Dylan</td>\n    </tr>\n    <tr>\n      <th>5</th>\n      <td>Arctic Monkeys</td>\n    </tr>\n    <tr>\n      <th>6</th>\n      <td>R.E.M.</td>\n    </tr>\n    <tr>\n      <th>7</th>\n      <td>The Cure</td>\n    </tr>\n    <tr>\n      <th>8</th>\n      <td>Nirvana</td>\n    </tr>\n    <tr>\n      <th>9</th>\n      <td>Yann Tiersen</td>\n    </tr>\n  </tbody>\n</table>\n</div>"
     },
     "metadata": {},
     "execution_count": 47
    }
   ],
   "source": [
    "recommend(8)"
   ]
  },
  {
   "cell_type": "code",
   "execution_count": 48,
   "id": "verbal-license",
   "metadata": {},
   "outputs": [],
   "source": [
    "# get_ground_truth qui renvoie les artistes ecoutés par un utilisateur par ordre décroissant du playCountScaled"
   ]
  },
  {
   "cell_type": "code",
   "execution_count": 49,
   "id": "cognitive-thomas",
   "metadata": {},
   "outputs": [
    {
     "output_type": "execute_result",
     "data": {
      "text/plain": [
       "          id             name  userID  artistID  playCount  totalUsers  \\\n",
       "2800      72     Depeche Mode    1642        72     352698         282   \n",
       "35843    792           Thalía    2071       792     324663          26   \n",
       "27302    511               U2    1094       511     320725         185   \n",
       "8152     203             Blur    1905       203     257978         114   \n",
       "26670    498         Paramore    1664       498     227829         399   \n",
       "...      ...              ...     ...       ...        ...         ...   \n",
       "38688    913  Destiny's Child    1810       913          1          83   \n",
       "32955    697              Sia    1290       697          1          56   \n",
       "71811   4988   Chris Spheeris     510      4988          1           5   \n",
       "91319  17080      Haylie Duff    1851     17080          1           1   \n",
       "63982   3201        Kate Bush     344      3201          1          42   \n",
       "\n",
       "       totalPlays      avgPlays  playCountScaled  \n",
       "2800      1301308   4614.567376         1.000000  \n",
       "35843      350035  13462.884615         0.920513  \n",
       "27302      493024   2664.994595         0.909347  \n",
       "8152       318221   2791.412281         0.731441  \n",
       "26670      963449   2414.659148         0.645960  \n",
       "...           ...           ...              ...  \n",
       "38688       34746    418.626506         0.000000  \n",
       "32955       27597    492.803571         0.000000  \n",
       "71811        3106    621.200000         0.000000  \n",
       "91319           1      1.000000         0.000000  \n",
       "63982       17408    414.476190         0.000000  \n",
       "\n",
       "[92834 rows x 9 columns]"
      ],
      "text/html": "<div>\n<style scoped>\n    .dataframe tbody tr th:only-of-type {\n        vertical-align: middle;\n    }\n\n    .dataframe tbody tr th {\n        vertical-align: top;\n    }\n\n    .dataframe thead th {\n        text-align: right;\n    }\n</style>\n<table border=\"1\" class=\"dataframe\">\n  <thead>\n    <tr style=\"text-align: right;\">\n      <th></th>\n      <th>id</th>\n      <th>name</th>\n      <th>userID</th>\n      <th>artistID</th>\n      <th>playCount</th>\n      <th>totalUsers</th>\n      <th>totalPlays</th>\n      <th>avgPlays</th>\n      <th>playCountScaled</th>\n    </tr>\n  </thead>\n  <tbody>\n    <tr>\n      <th>2800</th>\n      <td>72</td>\n      <td>Depeche Mode</td>\n      <td>1642</td>\n      <td>72</td>\n      <td>352698</td>\n      <td>282</td>\n      <td>1301308</td>\n      <td>4614.567376</td>\n      <td>1.000000</td>\n    </tr>\n    <tr>\n      <th>35843</th>\n      <td>792</td>\n      <td>Thalía</td>\n      <td>2071</td>\n      <td>792</td>\n      <td>324663</td>\n      <td>26</td>\n      <td>350035</td>\n      <td>13462.884615</td>\n      <td>0.920513</td>\n    </tr>\n    <tr>\n      <th>27302</th>\n      <td>511</td>\n      <td>U2</td>\n      <td>1094</td>\n      <td>511</td>\n      <td>320725</td>\n      <td>185</td>\n      <td>493024</td>\n      <td>2664.994595</td>\n      <td>0.909347</td>\n    </tr>\n    <tr>\n      <th>8152</th>\n      <td>203</td>\n      <td>Blur</td>\n      <td>1905</td>\n      <td>203</td>\n      <td>257978</td>\n      <td>114</td>\n      <td>318221</td>\n      <td>2791.412281</td>\n      <td>0.731441</td>\n    </tr>\n    <tr>\n      <th>26670</th>\n      <td>498</td>\n      <td>Paramore</td>\n      <td>1664</td>\n      <td>498</td>\n      <td>227829</td>\n      <td>399</td>\n      <td>963449</td>\n      <td>2414.659148</td>\n      <td>0.645960</td>\n    </tr>\n    <tr>\n      <th>...</th>\n      <td>...</td>\n      <td>...</td>\n      <td>...</td>\n      <td>...</td>\n      <td>...</td>\n      <td>...</td>\n      <td>...</td>\n      <td>...</td>\n      <td>...</td>\n    </tr>\n    <tr>\n      <th>38688</th>\n      <td>913</td>\n      <td>Destiny's Child</td>\n      <td>1810</td>\n      <td>913</td>\n      <td>1</td>\n      <td>83</td>\n      <td>34746</td>\n      <td>418.626506</td>\n      <td>0.000000</td>\n    </tr>\n    <tr>\n      <th>32955</th>\n      <td>697</td>\n      <td>Sia</td>\n      <td>1290</td>\n      <td>697</td>\n      <td>1</td>\n      <td>56</td>\n      <td>27597</td>\n      <td>492.803571</td>\n      <td>0.000000</td>\n    </tr>\n    <tr>\n      <th>71811</th>\n      <td>4988</td>\n      <td>Chris Spheeris</td>\n      <td>510</td>\n      <td>4988</td>\n      <td>1</td>\n      <td>5</td>\n      <td>3106</td>\n      <td>621.200000</td>\n      <td>0.000000</td>\n    </tr>\n    <tr>\n      <th>91319</th>\n      <td>17080</td>\n      <td>Haylie Duff</td>\n      <td>1851</td>\n      <td>17080</td>\n      <td>1</td>\n      <td>1</td>\n      <td>1</td>\n      <td>1.000000</td>\n      <td>0.000000</td>\n    </tr>\n    <tr>\n      <th>63982</th>\n      <td>3201</td>\n      <td>Kate Bush</td>\n      <td>344</td>\n      <td>3201</td>\n      <td>1</td>\n      <td>42</td>\n      <td>17408</td>\n      <td>414.476190</td>\n      <td>0.000000</td>\n    </tr>\n  </tbody>\n</table>\n<p>92834 rows × 9 columns</p>\n</div>"
     },
     "metadata": {},
     "execution_count": 49
    }
   ],
   "source": [
    "ap"
   ]
  },
  {
   "cell_type": "code",
   "execution_count": 50,
   "id": "functioning-brush",
   "metadata": {},
   "outputs": [],
   "source": [
    "def get_ground_truth(user):\n",
    "    return ap[(ap.userID == user)][[\"userID\",\"name\",\"playCountScaled\"]].sort_values(\"playCountScaled\", ascending=False)"
   ]
  },
  {
   "cell_type": "code",
   "execution_count": 51,
   "id": "demanding-fraud",
   "metadata": {
    "pycharm": {
     "name": "#%%\n"
    }
   },
   "outputs": [
    {
     "output_type": "execute_result",
     "data": {
      "text/plain": [
       "       userID                  name  playCountScaled\n",
       "19523       8             No Angels         0.017834\n",
       "19528       8                 Sandy         0.006791\n",
       "13176       8        Britney Spears         0.006399\n",
       "19530       8        Vanessa Petruo         0.004916\n",
       "14742       8               Beyoncé         0.004037\n",
       "19531       8             Alexander         0.003986\n",
       "15139       8             Sugababes         0.002943\n",
       "19532       8           Queensberry         0.002728\n",
       "3294        8             Lady Gaga         0.002608\n",
       "19534       8          Fady Maalouf         0.002319\n",
       "19535       8                  Cher         0.002265\n",
       "19590       8  Barbara Schöneberger         0.002248\n",
       "14047       8    Christina Aguilera         0.002217\n",
       "19591       8        Colbie Caillat         0.002132\n",
       "15241       8            Lily Allen         0.001735\n",
       "19660       8        Annett Louisan         0.001664\n",
       "12290       8           Céline Dion         0.001644\n",
       "18071       8         The Saturdays         0.001636\n",
       "19662       8          Taylor Swift         0.001565\n",
       "19909       8        Nadja Benaissa         0.001491\n",
       "19910       8                  Lena         0.001472\n",
       "19923       8       Cassandra Steen         0.001429\n",
       "19925       8       Wir sind Helden         0.001426\n",
       "20166       8               Monrose         0.001398\n",
       "19933       8    The Pussycat Dolls         0.001398\n",
       "11965       8          Mariah Carey         0.001355\n",
       "20179       8             Gabrielle         0.001290\n",
       "16314       8                  P!nk         0.001222\n",
       "12692       8               Rihanna         0.001211\n",
       "20181       8           Cheryl Cole         0.001179\n",
       "13787       8        Kelly Clarkson         0.001137\n",
       "20309       8                 Milow         0.001131\n",
       "20313       8          Sarah Connor         0.001100\n",
       "20323       8            Jason Mraz         0.001021\n",
       "3995        8                 Duffy         0.001001\n",
       "17273       8   Natasha Bedingfield         0.000998\n",
       "20383       8          Brad Paisley         0.000990\n",
       "15693       8            Katy Perry         0.000981\n",
       "20403       8            Silbermond         0.000975\n",
       "20411       8                Diyana         0.000791\n",
       "20412       8            Maria Mena         0.000783\n",
       "20426       8          Shania Twain         0.000726\n",
       "20472       8        Jennifer Chung         0.000714\n",
       "11864       8       Whitney Houston         0.000663\n",
       "20473       8         A Fine Frenzy         0.000646\n",
       "20509       8           Lucylicious         0.000522\n",
       "2517        8                  Dido         0.000510\n",
       "20510       8             Sugarland         0.000502\n",
       "20518       8     Christina Stürmer         0.000499\n",
       "20519       8          Jack Johnson         0.000488"
      ],
      "text/html": "<div>\n<style scoped>\n    .dataframe tbody tr th:only-of-type {\n        vertical-align: middle;\n    }\n\n    .dataframe tbody tr th {\n        vertical-align: top;\n    }\n\n    .dataframe thead th {\n        text-align: right;\n    }\n</style>\n<table border=\"1\" class=\"dataframe\">\n  <thead>\n    <tr style=\"text-align: right;\">\n      <th></th>\n      <th>userID</th>\n      <th>name</th>\n      <th>playCountScaled</th>\n    </tr>\n  </thead>\n  <tbody>\n    <tr>\n      <th>19523</th>\n      <td>8</td>\n      <td>No Angels</td>\n      <td>0.017834</td>\n    </tr>\n    <tr>\n      <th>19528</th>\n      <td>8</td>\n      <td>Sandy</td>\n      <td>0.006791</td>\n    </tr>\n    <tr>\n      <th>13176</th>\n      <td>8</td>\n      <td>Britney Spears</td>\n      <td>0.006399</td>\n    </tr>\n    <tr>\n      <th>19530</th>\n      <td>8</td>\n      <td>Vanessa Petruo</td>\n      <td>0.004916</td>\n    </tr>\n    <tr>\n      <th>14742</th>\n      <td>8</td>\n      <td>Beyoncé</td>\n      <td>0.004037</td>\n    </tr>\n    <tr>\n      <th>19531</th>\n      <td>8</td>\n      <td>Alexander</td>\n      <td>0.003986</td>\n    </tr>\n    <tr>\n      <th>15139</th>\n      <td>8</td>\n      <td>Sugababes</td>\n      <td>0.002943</td>\n    </tr>\n    <tr>\n      <th>19532</th>\n      <td>8</td>\n      <td>Queensberry</td>\n      <td>0.002728</td>\n    </tr>\n    <tr>\n      <th>3294</th>\n      <td>8</td>\n      <td>Lady Gaga</td>\n      <td>0.002608</td>\n    </tr>\n    <tr>\n      <th>19534</th>\n      <td>8</td>\n      <td>Fady Maalouf</td>\n      <td>0.002319</td>\n    </tr>\n    <tr>\n      <th>19535</th>\n      <td>8</td>\n      <td>Cher</td>\n      <td>0.002265</td>\n    </tr>\n    <tr>\n      <th>19590</th>\n      <td>8</td>\n      <td>Barbara Schöneberger</td>\n      <td>0.002248</td>\n    </tr>\n    <tr>\n      <th>14047</th>\n      <td>8</td>\n      <td>Christina Aguilera</td>\n      <td>0.002217</td>\n    </tr>\n    <tr>\n      <th>19591</th>\n      <td>8</td>\n      <td>Colbie Caillat</td>\n      <td>0.002132</td>\n    </tr>\n    <tr>\n      <th>15241</th>\n      <td>8</td>\n      <td>Lily Allen</td>\n      <td>0.001735</td>\n    </tr>\n    <tr>\n      <th>19660</th>\n      <td>8</td>\n      <td>Annett Louisan</td>\n      <td>0.001664</td>\n    </tr>\n    <tr>\n      <th>12290</th>\n      <td>8</td>\n      <td>Céline Dion</td>\n      <td>0.001644</td>\n    </tr>\n    <tr>\n      <th>18071</th>\n      <td>8</td>\n      <td>The Saturdays</td>\n      <td>0.001636</td>\n    </tr>\n    <tr>\n      <th>19662</th>\n      <td>8</td>\n      <td>Taylor Swift</td>\n      <td>0.001565</td>\n    </tr>\n    <tr>\n      <th>19909</th>\n      <td>8</td>\n      <td>Nadja Benaissa</td>\n      <td>0.001491</td>\n    </tr>\n    <tr>\n      <th>19910</th>\n      <td>8</td>\n      <td>Lena</td>\n      <td>0.001472</td>\n    </tr>\n    <tr>\n      <th>19923</th>\n      <td>8</td>\n      <td>Cassandra Steen</td>\n      <td>0.001429</td>\n    </tr>\n    <tr>\n      <th>19925</th>\n      <td>8</td>\n      <td>Wir sind Helden</td>\n      <td>0.001426</td>\n    </tr>\n    <tr>\n      <th>20166</th>\n      <td>8</td>\n      <td>Monrose</td>\n      <td>0.001398</td>\n    </tr>\n    <tr>\n      <th>19933</th>\n      <td>8</td>\n      <td>The Pussycat Dolls</td>\n      <td>0.001398</td>\n    </tr>\n    <tr>\n      <th>11965</th>\n      <td>8</td>\n      <td>Mariah Carey</td>\n      <td>0.001355</td>\n    </tr>\n    <tr>\n      <th>20179</th>\n      <td>8</td>\n      <td>Gabrielle</td>\n      <td>0.001290</td>\n    </tr>\n    <tr>\n      <th>16314</th>\n      <td>8</td>\n      <td>P!nk</td>\n      <td>0.001222</td>\n    </tr>\n    <tr>\n      <th>12692</th>\n      <td>8</td>\n      <td>Rihanna</td>\n      <td>0.001211</td>\n    </tr>\n    <tr>\n      <th>20181</th>\n      <td>8</td>\n      <td>Cheryl Cole</td>\n      <td>0.001179</td>\n    </tr>\n    <tr>\n      <th>13787</th>\n      <td>8</td>\n      <td>Kelly Clarkson</td>\n      <td>0.001137</td>\n    </tr>\n    <tr>\n      <th>20309</th>\n      <td>8</td>\n      <td>Milow</td>\n      <td>0.001131</td>\n    </tr>\n    <tr>\n      <th>20313</th>\n      <td>8</td>\n      <td>Sarah Connor</td>\n      <td>0.001100</td>\n    </tr>\n    <tr>\n      <th>20323</th>\n      <td>8</td>\n      <td>Jason Mraz</td>\n      <td>0.001021</td>\n    </tr>\n    <tr>\n      <th>3995</th>\n      <td>8</td>\n      <td>Duffy</td>\n      <td>0.001001</td>\n    </tr>\n    <tr>\n      <th>17273</th>\n      <td>8</td>\n      <td>Natasha Bedingfield</td>\n      <td>0.000998</td>\n    </tr>\n    <tr>\n      <th>20383</th>\n      <td>8</td>\n      <td>Brad Paisley</td>\n      <td>0.000990</td>\n    </tr>\n    <tr>\n      <th>15693</th>\n      <td>8</td>\n      <td>Katy Perry</td>\n      <td>0.000981</td>\n    </tr>\n    <tr>\n      <th>20403</th>\n      <td>8</td>\n      <td>Silbermond</td>\n      <td>0.000975</td>\n    </tr>\n    <tr>\n      <th>20411</th>\n      <td>8</td>\n      <td>Diyana</td>\n      <td>0.000791</td>\n    </tr>\n    <tr>\n      <th>20412</th>\n      <td>8</td>\n      <td>Maria Mena</td>\n      <td>0.000783</td>\n    </tr>\n    <tr>\n      <th>20426</th>\n      <td>8</td>\n      <td>Shania Twain</td>\n      <td>0.000726</td>\n    </tr>\n    <tr>\n      <th>20472</th>\n      <td>8</td>\n      <td>Jennifer Chung</td>\n      <td>0.000714</td>\n    </tr>\n    <tr>\n      <th>11864</th>\n      <td>8</td>\n      <td>Whitney Houston</td>\n      <td>0.000663</td>\n    </tr>\n    <tr>\n      <th>20473</th>\n      <td>8</td>\n      <td>A Fine Frenzy</td>\n      <td>0.000646</td>\n    </tr>\n    <tr>\n      <th>20509</th>\n      <td>8</td>\n      <td>Lucylicious</td>\n      <td>0.000522</td>\n    </tr>\n    <tr>\n      <th>2517</th>\n      <td>8</td>\n      <td>Dido</td>\n      <td>0.000510</td>\n    </tr>\n    <tr>\n      <th>20510</th>\n      <td>8</td>\n      <td>Sugarland</td>\n      <td>0.000502</td>\n    </tr>\n    <tr>\n      <th>20518</th>\n      <td>8</td>\n      <td>Christina Stürmer</td>\n      <td>0.000499</td>\n    </tr>\n    <tr>\n      <th>20519</th>\n      <td>8</td>\n      <td>Jack Johnson</td>\n      <td>0.000488</td>\n    </tr>\n  </tbody>\n</table>\n</div>"
     },
     "metadata": {},
     "execution_count": 51
    }
   ],
   "source": [
    "get_ground_truth(8)"
   ]
  },
  {
   "cell_type": "code",
   "execution_count": null,
   "metadata": {},
   "outputs": [],
   "source": []
  }
 ],
 "metadata": {
  "kernelspec": {
   "display_name": "Python 3",
   "language": "python",
   "name": "python3"
  },
  "language_info": {
   "codemirror_mode": {
    "name": "ipython",
    "version": 3
   },
   "file_extension": ".py",
   "mimetype": "text/x-python",
   "name": "python",
   "nbconvert_exporter": "python",
   "pygments_lexer": "ipython3",
   "version": "3.8.7-final"
  }
 },
 "nbformat": 4,
 "nbformat_minor": 5
}